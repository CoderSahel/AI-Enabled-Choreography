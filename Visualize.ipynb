{
 "cells": [
  {
   "cell_type": "markdown",
   "metadata": {},
   "source": [
    "# Import Libraries"
   ]
  },
  {
   "cell_type": "code",
   "execution_count": 1,
   "metadata": {},
   "outputs": [],
   "source": [
    "import numpy as np\n",
    "import pandas as pd\n",
    "import plotly.express as px\n",
    "from mpl_toolkits.mplot3d import Axes3D\n",
    "import matplotlib.pyplot as plt\n",
    "from matplotlib.animation import FuncAnimation\n",
    "from matplotlib.animation import PillowWriter\n",
    "from matplotlib import animation\n",
    "import cv2\n",
    "from PIL import Image\n",
    "import io\n",
    "from sklearn.preprocessing import MinMaxScaler"
   ]
  },
  {
   "cell_type": "markdown",
   "metadata": {},
   "source": [
    "#   Load Data"
   ]
  },
  {
   "cell_type": "code",
   "execution_count": 2,
   "metadata": {},
   "outputs": [],
   "source": [
    "res = np.load(\"data\\mariel_beyond.npy\")\n",
    "#res=np.load(\"ninth.npy\")"
   ]
  },
  {
   "cell_type": "code",
   "execution_count": 8,
   "metadata": {},
   "outputs": [
    {
     "data": {
      "text/plain": [
       "(55, 6803, 3)"
      ]
     },
     "execution_count": 8,
     "metadata": {},
     "output_type": "execute_result"
    }
   ],
   "source": [
    "res.shape"
   ]
  },
  {
   "cell_type": "code",
   "execution_count": 3,
   "metadata": {},
   "outputs": [
    {
     "data": {
      "text/plain": [
       "(55, 6803, 3)"
      ]
     },
     "execution_count": 3,
     "metadata": {},
     "output_type": "execute_result"
    }
   ],
   "source": [
    "np.array(res).shape"
   ]
  },
  {
   "cell_type": "code",
   "execution_count": 4,
   "metadata": {},
   "outputs": [],
   "source": [
    "joints_data=np.array(res)"
   ]
  },
  {
   "cell_type": "code",
   "execution_count": 5,
   "metadata": {},
   "outputs": [],
   "source": [
    "arr_reshaped = joints_data.reshape(-1, 1)"
   ]
  },
  {
   "cell_type": "code",
   "execution_count": 6,
   "metadata": {},
   "outputs": [],
   "source": [
    "scaler = MinMaxScaler()\n",
    "# Fit and transform the array\n",
    "normalized_arr_reshaped = scaler.fit_transform(arr_reshaped)\n",
    "# Reshape the normalized array back to original shape\n",
    "joints_data = normalized_arr_reshaped.reshape(joints_data.shape)"
   ]
  },
  {
   "cell_type": "markdown",
   "metadata": {},
   "source": [
    "# Visualize whole sequence"
   ]
  },
  {
   "cell_type": "code",
   "execution_count": 8,
   "metadata": {},
   "outputs": [
    {
     "data": {
      "text/plain": [
       "'fig = plt.figure()\\nax = fig.add_subplot(111, projection=\\'3d\\')\\n\\nax.set_xlim([0, -3])\\nax.set_ylim([0, -3])\\nax.set_zlim([1, 2.5])\\n\\ndef animate(i):\\n    reshaped_data = joints_data[:, i, :]\\n    for landmarks in reshaped_data:\\n        x_value=landmarks[0]\\n        y_value=landmarks[1]\\n        z_value=-landmarks[2]\\n        ax.scatter(x_value, y_value, z_value, c=\\'r\\', marker=\\'.\\')\\n    return plt.figure()\\n        \\nani = animation.FuncAnimation(fig, animate, repeat=True,\\n                                    frames=150, interval=50)  \\n\\nprint(\"saving\")\\nwriter = animation.PillowWriter(fps=15)\\nani.save(\\'scatter.gif\\', writer=writer)\\n\\nplt.show()'"
      ]
     },
     "execution_count": 8,
     "metadata": {},
     "output_type": "execute_result"
    }
   ],
   "source": [
    "\"\"\"fig = plt.figure()\n",
    "ax = fig.add_subplot(111, projection='3d')\n",
    "\n",
    "ax.set_xlim([0, -3])\n",
    "ax.set_ylim([0, -3])\n",
    "ax.set_zlim([1, 2.5])\n",
    "\n",
    "def animate(i):\n",
    "    reshaped_data = joints_data[:, i, :]\n",
    "    for landmarks in reshaped_data:\n",
    "        x_value=landmarks[0]\n",
    "        y_value=landmarks[1]\n",
    "        z_value=-landmarks[2]\n",
    "        ax.scatter(x_value, y_value, z_value, c='r', marker='.')\n",
    "    return plt.figure()\n",
    "        \n",
    "ani = animation.FuncAnimation(fig, animate, repeat=True,\n",
    "                                    frames=150, interval=50)  \n",
    "\n",
    "print(\"saving\")\n",
    "writer = animation.PillowWriter(fps=15)\n",
    "ani.save('scatter.gif', writer=writer)\n",
    "\n",
    "plt.show()\"\"\""
   ]
  },
  {
   "cell_type": "code",
   "execution_count": 7,
   "metadata": {},
   "outputs": [
    {
     "name": "stdout",
     "output_type": "stream",
     "text": [
      "frame: 0\n",
      "frame: 1\n",
      "frame: 2\n",
      "frame: 3\n",
      "frame: 4\n",
      "frame: 5\n",
      "frame: 6\n",
      "frame: 7\n",
      "frame: 8\n",
      "frame: 9\n",
      "frame: 10\n",
      "frame: 11\n",
      "frame: 12\n",
      "frame: 13\n",
      "frame: 14\n",
      "frame: 15\n",
      "frame: 16\n",
      "frame: 17\n",
      "frame: 18\n",
      "frame: 19\n",
      "frame: 20\n",
      "frame: 21\n",
      "frame: 22\n",
      "frame: 23\n",
      "frame: 24\n",
      "frame: 25\n",
      "frame: 26\n",
      "frame: 27\n",
      "frame: 28\n",
      "frame: 29\n",
      "frame: 30\n",
      "frame: 31\n",
      "frame: 32\n",
      "frame: 33\n",
      "frame: 34\n",
      "frame: 35\n",
      "frame: 36\n",
      "frame: 37\n",
      "frame: 38\n",
      "frame: 39\n",
      "frame: 40\n",
      "frame: 41\n",
      "frame: 42\n",
      "frame: 43\n",
      "frame: 44\n",
      "frame: 45\n",
      "frame: 46\n",
      "frame: 47\n",
      "frame: 48\n",
      "frame: 49\n",
      "frame: 50\n",
      "frame: 51\n",
      "frame: 52\n",
      "frame: 53\n",
      "frame: 54\n",
      "frame: 55\n",
      "frame: 56\n",
      "frame: 57\n",
      "frame: 58\n",
      "frame: 59\n",
      "frame: 60\n",
      "frame: 61\n",
      "frame: 62\n",
      "frame: 63\n",
      "frame: 64\n",
      "frame: 65\n",
      "frame: 66\n",
      "frame: 67\n",
      "frame: 68\n",
      "frame: 69\n",
      "frame: 70\n",
      "frame: 71\n",
      "frame: 72\n",
      "frame: 73\n",
      "frame: 74\n",
      "frame: 75\n",
      "frame: 76\n",
      "frame: 77\n",
      "frame: 78\n",
      "frame: 79\n",
      "frame: 80\n",
      "frame: 81\n",
      "frame: 82\n",
      "frame: 83\n",
      "frame: 84\n",
      "frame: 85\n",
      "frame: 86\n",
      "frame: 87\n",
      "frame: 88\n",
      "frame: 89\n",
      "frame: 90\n",
      "frame: 91\n",
      "frame: 92\n",
      "frame: 93\n",
      "frame: 94\n",
      "frame: 95\n",
      "frame: 96\n",
      "frame: 97\n",
      "frame: 98\n",
      "frame: 99\n",
      "frame: 100\n",
      "frame: 101\n",
      "frame: 102\n",
      "frame: 103\n",
      "frame: 104\n",
      "frame: 105\n",
      "frame: 106\n",
      "frame: 107\n",
      "frame: 108\n",
      "frame: 109\n",
      "frame: 110\n",
      "frame: 111\n",
      "frame: 112\n",
      "frame: 113\n",
      "frame: 114\n",
      "frame: 115\n",
      "frame: 116\n",
      "frame: 117\n",
      "frame: 118\n",
      "frame: 119\n",
      "frame: 120\n",
      "frame: 121\n",
      "frame: 122\n",
      "frame: 123\n",
      "frame: 124\n"
     ]
    },
    {
     "data": {
      "image/png": "[encoded data removed]",
      "text/plain": [
       "<Figure size 640x480 with 1 Axes>"
      ]
     },
     "metadata": {},
     "output_type": "display_data"
    }
   ],
   "source": [
    "fig = plt.figure()\n",
    "ax = fig.add_subplot(111, projection='3d')\n",
    "plt.axis('off')\n",
    "\n",
    "def custom_round(num):\n",
    "    if num > 0:\n",
    "        return np.ceil(num * 10) / 10\n",
    "    else:\n",
    "        return np.floor(num * 10) / 10\n",
    "    \n",
    "x_coordinates = joints_data[:, :, 0]\n",
    "y_coordinates = joints_data[:, :, 1]\n",
    "z_coordinates = joints_data[:, :, 2]\n",
    "\n",
    "limit = [custom_round(np.min(x_coordinates)), custom_round(np.max(x_coordinates)), \n",
    "         custom_round(np.min(y_coordinates)), custom_round(np.max(y_coordinates)), \n",
    "         custom_round(np.min(z_coordinates)), custom_round(np.max(z_coordinates))]\n",
    "\n",
    "#np.save(\"limits\", limit)\n",
    "\n",
    "def animate(i):\n",
    "    reshaped_data = joints_data[:, i, :]\n",
    "    ax.clear()\n",
    "    \n",
    "    # Set limits\n",
    "    ax.set_xlim([limit[0], limit[1]])\n",
    "    ax.set_ylim([limit[2], limit[3]])\n",
    "    ax.set_zlim([limit[5], limit[4]])\n",
    "        \n",
    "    # Remove grid and ticks\n",
    "    ax.grid(True)\n",
    "    ax.set_xticks([])\n",
    "    ax.set_yticks([])\n",
    "    ax.set_zticks([])\n",
    "    plt.axis('off')\n",
    "    \n",
    "    # Plot each landmark\n",
    "    for landmarks in reshaped_data:\n",
    "        ax.scatter(*landmarks, c='b', marker='.')\n",
    "        \n",
    "    # Save the figure to a BytesIO object\n",
    "    buf = io.BytesIO()\n",
    "    fig.savefig(buf, format='jpg')\n",
    "    buf.seek(0)\n",
    "    img = Image.open(buf)\n",
    "    img_array = np.array(img)\n",
    "    return img_array\n",
    "\n",
    "def visualize(timestep):\n",
    "    plt.axis('off')\n",
    "    fourcc = cv2.VideoWriter_fourcc(*'XVID') \n",
    "    result = cv2.VideoWriter('output.avi', fourcc, 25.0, (480, 360)) \n",
    "    for i in range (0,timestep):\n",
    "        print(\"frame:\",i)\n",
    "        frame = animate(i)\n",
    "        frame = cv2.cvtColor(np.array(frame), cv2.COLOR_RGB2BGR)\n",
    "        frame = frame[60:420, 80:560]  # Crop the frame\n",
    "        result.write(frame)\n",
    "        cv2.imshow('Frame', frame)\n",
    "        if cv2.waitKey(1) & 0xFF == ord('q'): \n",
    "            break\n",
    "\n",
    "    result.release() \n",
    "    cv2.destroyAllWindows()\n",
    "\n",
    "visualize(125)"
   ]
  }
 ],
 "metadata": {
  "kernelspec": {
   "display_name": "SIH",
   "language": "python",
   "name": "python3"
  },
  "language_info": {
   "codemirror_mode": {
    "name": "ipython",
    "version": 3
   },
   "file_extension": ".py",
   "mimetype": "text/x-python",
   "name": "python",
   "nbconvert_exporter": "python",
   "pygments_lexer": "ipython3",
   "version": "3.11.5"
  }
 },
 "nbformat": 4,
 "nbformat_minor": 2
}
