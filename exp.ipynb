{
 "cells": [
  {
   "cell_type": "markdown",
   "metadata": {},
   "source": [
    "# Usage of visualization tool"
   ]
  },
  {
   "cell_type": "code",
   "execution_count": 1,
   "metadata": {},
   "outputs": [
    {
     "name": "stdout",
     "output_type": "stream",
     "text": [
      "sahel\n"
     ]
    },
    {
     "data": {
      "image/png": "[encoded data removed]",
      "text/plain": [
       "<Figure size 640x480 with 1 Axes>"
      ]
     },
     "metadata": {},
     "output_type": "display_data"
    }
   ],
   "source": [
    "import numpy as np\n",
    "from visualize import visualize,animate"
   ]
  },
  {
   "cell_type": "code",
   "execution_count": 2,
   "metadata": {},
   "outputs": [],
   "source": [
    "res = np.load(\"data\\mariel_beyond.npy\")\n",
    "joints_data=np.array(res)\n"
   ]
  },
  {
   "cell_type": "code",
   "execution_count": 3,
   "metadata": {},
   "outputs": [
    {
     "name": "stdout",
     "output_type": "stream",
     "text": [
      "frame: 0\n",
      "frame: 1\n",
      "frame: 2\n",
      "frame: 3\n",
      "frame: 4\n",
      "frame: 5\n",
      "frame: 6\n",
      "frame: 7\n",
      "frame: 8\n",
      "frame: 9\n",
      "frame: 10\n",
      "frame: 11\n",
      "frame: 12\n",
      "frame: 13\n",
      "frame: 14\n",
      "frame: 15\n",
      "frame: 16\n",
      "frame: 17\n",
      "frame: 18\n",
      "frame: 19\n",
      "frame: 20\n",
      "frame: 21\n",
      "frame: 22\n",
      "frame: 23\n",
      "frame: 24\n",
      "frame: 25\n",
      "frame: 26\n",
      "frame: 27\n",
      "frame: 28\n",
      "frame: 29\n",
      "frame: 30\n",
      "frame: 31\n",
      "frame: 32\n",
      "frame: 33\n",
      "frame: 34\n",
      "frame: 35\n",
      "frame: 36\n",
      "frame: 37\n",
      "frame: 38\n",
      "frame: 39\n",
      "frame: 40\n",
      "frame: 41\n",
      "frame: 42\n",
      "frame: 43\n",
      "frame: 44\n",
      "frame: 45\n",
      "frame: 46\n",
      "frame: 47\n",
      "frame: 48\n",
      "frame: 49\n",
      "frame: 50\n",
      "frame: 51\n",
      "frame: 52\n",
      "frame: 53\n",
      "frame: 54\n",
      "frame: 55\n",
      "frame: 56\n",
      "frame: 57\n",
      "frame: 58\n",
      "frame: 59\n",
      "frame: 60\n",
      "frame: 61\n",
      "frame: 62\n",
      "frame: 63\n",
      "frame: 64\n",
      "frame: 65\n",
      "frame: 66\n",
      "frame: 67\n",
      "frame: 68\n",
      "frame: 69\n",
      "frame: 70\n",
      "frame: 71\n",
      "frame: 72\n",
      "frame: 73\n",
      "frame: 74\n",
      "frame: 75\n",
      "frame: 76\n",
      "frame: 77\n",
      "frame: 78\n",
      "frame: 79\n",
      "frame: 80\n",
      "frame: 81\n",
      "frame: 82\n",
      "frame: 83\n",
      "frame: 84\n",
      "frame: 85\n",
      "frame: 86\n",
      "frame: 87\n",
      "frame: 88\n",
      "frame: 89\n",
      "frame: 90\n",
      "frame: 91\n",
      "frame: 92\n",
      "frame: 93\n",
      "frame: 94\n",
      "frame: 95\n",
      "frame: 96\n",
      "frame: 97\n",
      "frame: 98\n",
      "frame: 99\n",
      "frame: 100\n",
      "frame: 101\n",
      "frame: 102\n",
      "frame: 103\n",
      "frame: 104\n",
      "frame: 105\n",
      "frame: 106\n",
      "frame: 107\n",
      "frame: 108\n",
      "frame: 109\n",
      "frame: 110\n",
      "frame: 111\n",
      "frame: 112\n",
      "frame: 113\n",
      "frame: 114\n",
      "frame: 115\n",
      "frame: 116\n",
      "frame: 117\n",
      "frame: 118\n",
      "frame: 119\n",
      "frame: 120\n",
      "frame: 121\n",
      "frame: 122\n",
      "frame: 123\n",
      "frame: 124\n"
     ]
    },
    {
     "data": {
      "image/png": "[encoded data removed]",
      "text/plain": [
       "<Figure size 640x480 with 1 Axes>"
      ]
     },
     "metadata": {},
     "output_type": "display_data"
    }
   ],
   "source": [
    "visualize(, joints_data, 0, True, \"output.avi\")"
   ]
  }
 ],
 "metadata": {
  "kernelspec": {
   "display_name": "SIH",
   "language": "python",
   "name": "python3"
  },
  "language_info": {
   "codemirror_mode": {
    "name": "ipython",
    "version": 3
   },
   "file_extension": ".py",
   "mimetype": "text/x-python",
   "name": "python",
   "nbconvert_exporter": "python",
   "pygments_lexer": "ipython3",
   "version": "3.11.5"
  }
 },
 "nbformat": 4,
 "nbformat_minor": 2
}
